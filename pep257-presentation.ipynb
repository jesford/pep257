{
 "cells": [
  {
   "cell_type": "markdown",
   "metadata": {
    "slideshow": {
     "slide_type": "notes"
    }
   },
   "source": [
    "jupyter nbconvert pep257-presentation.ipynb --to slides --post serve"
   ]
  },
  {
   "cell_type": "markdown",
   "metadata": {
    "slideshow": {
     "slide_type": "slide"
    }
   },
   "source": [
    "# Thanks for Docstrings!\n",
    "### a brief overview of PEP 257"
   ]
  },
  {
   "cell_type": "markdown",
   "metadata": {
    "slideshow": {
     "slide_type": "slide"
    }
   },
   "source": [
    "## What is a Docstring?\n",
    "A docstring is a string literal that occurs as the first statement in a module, function, class, or method definition. Such a docstring becomes the `__doc__` special attribute of that object."
   ]
  },
  {
   "cell_type": "code",
   "execution_count": 1,
   "metadata": {
    "ExecuteTime": {
     "end_time": "2018-11-29T00:34:08.822903Z",
     "start_time": "2018-11-29T00:34:08.815567Z"
    },
    "slideshow": {
     "slide_type": "fragment"
    }
   },
   "outputs": [
    {
     "name": "stdout",
     "output_type": "stream",
     "text": [
      "Why thank you!\n"
     ]
    }
   ],
   "source": [
    "def thankyou():\n",
    "    \"\"\"A function that expresses thanks.\"\"\"\n",
    "    print('Why thank you!')\n",
    "    \n",
    "thankyou()"
   ]
  },
  {
   "cell_type": "code",
   "execution_count": 2,
   "metadata": {
    "ExecuteTime": {
     "end_time": "2018-11-29T00:34:08.839421Z",
     "start_time": "2018-11-29T00:34:08.825418Z"
    },
    "slideshow": {
     "slide_type": "fragment"
    }
   },
   "outputs": [
    {
     "data": {
      "text/plain": [
       "'A function that expresses thanks.'"
      ]
     },
     "execution_count": 2,
     "metadata": {},
     "output_type": "execute_result"
    }
   ],
   "source": [
    "thankyou.__doc__"
   ]
  },
  {
   "cell_type": "code",
   "execution_count": 3,
   "metadata": {
    "ExecuteTime": {
     "end_time": "2018-11-29T00:34:08.893155Z",
     "start_time": "2018-11-29T00:34:08.841783Z"
    },
    "slideshow": {
     "slide_type": "fragment"
    }
   },
   "outputs": [],
   "source": [
    "# in jupyter notebook you can access docstrings with ?\n",
    "thankyou?"
   ]
  },
  {
   "cell_type": "markdown",
   "metadata": {
    "slideshow": {
     "slide_type": "slide"
    }
   },
   "source": [
    "## The \"rules\"\n",
    "As always in Python, these are more like guidelines :)\n",
    "\n",
    "\n",
    "- Use `\"\"\"Triple double quotes\"\"\"`\n",
    "  - *can use raw strings*... `r\"\"\"if you have a backslash\\ in it\"\"\"`\n",
    "  - *or unicode*... `u\"\"\"if you're using abcdé unicode\"\"\"`"
   ]
  },
  {
   "cell_type": "markdown",
   "metadata": {
    "slideshow": {
     "slide_type": "slide"
    }
   },
   "source": [
    "### Where to put docstrings?\n",
    "- all functions should have docstrings\n",
    "- all classes should have docstrings on the class and public methods\n",
    "- all modules should have docstrings (first line of a file)"
   ]
  },
  {
   "cell_type": "markdown",
   "metadata": {
    "slideshow": {
     "slide_type": "slide"
    }
   },
   "source": [
    "## One-liners\n",
    "\n",
    "Only for obvious cases.\n",
    "\n",
    "- all `\"\"\"` should be on one line"
   ]
  },
  {
   "cell_type": "code",
   "execution_count": 4,
   "metadata": {
    "ExecuteTime": {
     "end_time": "2018-11-29T00:34:08.903670Z",
     "start_time": "2018-11-29T00:34:08.895898Z"
    },
    "slideshow": {
     "slide_type": "-"
    }
   },
   "outputs": [],
   "source": [
    "def the_right_way():\n",
    "    \"\"\"Do it right.\"\"\"\n",
    "    pass\n",
    "\n",
    "\n",
    "def the_wrong_way():\n",
    "    \"\"\"\n",
    "    Breaks some rules\n",
    "    \"\"\"\n",
    "    pass"
   ]
  },
  {
   "cell_type": "markdown",
   "metadata": {
    "slideshow": {
     "slide_type": "-"
    }
   },
   "source": [
    "- first line should end in a period\n",
    "- should state what the function does\n",
    "- use imperative (command):\n",
    "  - `\"\"\"Return this\"\"\"` not `\"\"\"Returns the thing\"\"\"`"
   ]
  },
  {
   "cell_type": "markdown",
   "metadata": {
    "slideshow": {
     "slide_type": "slide"
    }
   },
   "source": [
    "## Multi-line Docstrings\n",
    "\n",
    "- first line is the summary line, same as one-liners\n",
    "- then a blank line followed by a longer description\n",
    "- all lines indented the same as the opening `\"\"\"`\n",
    "- summarize behavior, and document arguments, return value(s)\n",
    "- if relevant, mention any side effects, exceptions raised, optional arguments, etc"
   ]
  },
  {
   "cell_type": "markdown",
   "metadata": {
    "slideshow": {
     "slide_type": "-"
    }
   },
   "source": [
    "It is best to list each argument on a separate line. For example:\n",
    "```py\n",
    "def complex(real=0.0, imag=0.0):\n",
    "    \"\"\"Form a complex number.\n",
    "\n",
    "    Keyword arguments:\n",
    "    real -- the real part (default 0.0)\n",
    "    imag -- the imaginary part (default 0.0)\n",
    "    \"\"\"\n",
    "    if imag == 0.0 and real == 0.0:\n",
    "        return complex_zero\n",
    "    ...\n",
    "# from the pep257 examples\n",
    "```"
   ]
  },
  {
   "cell_type": "markdown",
   "metadata": {
    "slideshow": {
     "slide_type": "slide"
    }
   },
   "source": [
    "## two more types of docstrings...\n",
    "\n",
    "1. **attribute docstrings**: string literals occurring immediately after a simple assignment at the top level of a module, class, or `__init__`\n",
    "2. **additional docstrings**: string literals occurring immediately after another docstring.\n",
    "\n",
    "(see PEP 258 for how these can be used)\n",
    "\n",
    "$\\rightarrow$ You can also use string literals as documentation in other places, but Python won't do anything special with them."
   ]
  },
  {
   "cell_type": "markdown",
   "metadata": {
    "slideshow": {
     "slide_type": "slide"
    }
   },
   "source": [
    "Beyond PEP 257...\n",
    "\n",
    "## Project Docstring conventions\n",
    "\n",
    "Many open source projects build upon PEP 257, and layer on their own additional conventions. One example is the `numpy` docstring conventions that are used by many of the pydata projects (`scikit-learn`, `pandas`, `scipy`). See [NumPy Docstring Standard](https://docs.scipy.org/doc/numpy-1.15.0/docs/howto_document.html#docstring-standard) for details."
   ]
  },
  {
   "cell_type": "code",
   "execution_count": 5,
   "metadata": {
    "ExecuteTime": {
     "end_time": "2018-11-29T00:34:08.913366Z",
     "start_time": "2018-11-29T00:34:08.906103Z"
    },
    "slideshow": {
     "slide_type": "fragment"
    }
   },
   "outputs": [],
   "source": [
    "def function_with_numpy_docstring(param1, param2):\n",
    "    \"\"\"Demonstration of NumPy Docstring Conventions.\n",
    "\n",
    "    Longer description here. Note that in this convention\n",
    "    the width of the docstring should not exceed 70 characters.\n",
    "\n",
    "    Parameters\n",
    "    ----------\n",
    "    param1 : int\n",
    "        Description of the first parameter.\n",
    "    param2 : str\n",
    "        Description of the second parameter.\n",
    "\n",
    "    Returns\n",
    "    -------\n",
    "    bool\n",
    "        True if successful, False otherwise.\n",
    "    \"\"\"\n",
    "    # lots of different useful sections are available"
   ]
  },
  {
   "cell_type": "markdown",
   "metadata": {
    "slideshow": {
     "slide_type": "slide"
    }
   },
   "source": [
    "# Thanks!\n",
    "\n",
    "Search for PEP 257 to learn more"
   ]
  }
 ],
 "metadata": {
  "celltoolbar": "Slideshow",
  "kernelspec": {
   "display_name": "Python 3",
   "language": "python",
   "name": "python3"
  },
  "language_info": {
   "codemirror_mode": {
    "name": "ipython",
    "version": 3
   },
   "file_extension": ".py",
   "mimetype": "text/x-python",
   "name": "python",
   "nbconvert_exporter": "python",
   "pygments_lexer": "ipython3",
   "version": "3.6.2"
  }
 },
 "nbformat": 4,
 "nbformat_minor": 2
}
